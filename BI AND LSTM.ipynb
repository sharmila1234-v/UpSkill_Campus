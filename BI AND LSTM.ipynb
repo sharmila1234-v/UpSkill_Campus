{
  "nbformat": 4,
  "nbformat_minor": 0,
  "metadata": {
    "colab": {
      "provenance": [],
      "authorship_tag": "ABX9TyOkfkKdnqv/almAiTo+Sm9D",
      "include_colab_link": true
    },
    "kernelspec": {
      "name": "python3",
      "display_name": "Python 3"
    },
    "language_info": {
      "name": "python"
    }
  },
  "cells": [
    {
      "cell_type": "markdown",
      "metadata": {
        "id": "view-in-github",
        "colab_type": "text"
      },
      "source": [
        "<a href=\"https://colab.research.google.com/github/sharmila1234-v/UpSkill_Campus/blob/main/BI%20AND%20LSTM.ipynb\" target=\"_parent\"><img src=\"https://colab.research.google.com/assets/colab-badge.svg\" alt=\"Open In Colab\"/></a>"
      ]
    },
    {
      "cell_type": "code",
      "execution_count": null,
      "metadata": {
        "colab": {
          "base_uri": "https://localhost:8080/"
        },
        "id": "i9PZytUOW1y1",
        "outputId": "74adf80d-37b8-4e3f-cc72-490cb66739ca"
      },
      "outputs": [
        {
          "output_type": "stream",
          "name": "stdout",
          "text": [
            "Epoch 1/5\n",
            "313/313 [==============================] - 38s 111ms/step - loss: 0.4337 - accuracy: 0.7888 - val_loss: 0.3285 - val_accuracy: 0.8678\n",
            "Epoch 2/5\n",
            "313/313 [==============================] - 35s 111ms/step - loss: 0.2310 - accuracy: 0.9115 - val_loss: 0.3289 - val_accuracy: 0.8592\n",
            "Epoch 3/5\n",
            "313/313 [==============================] - 34s 107ms/step - loss: 0.1708 - accuracy: 0.9377 - val_loss: 0.3203 - val_accuracy: 0.8652\n",
            "Epoch 4/5\n",
            "313/313 [==============================] - 33s 107ms/step - loss: 0.1277 - accuracy: 0.9549 - val_loss: 0.3971 - val_accuracy: 0.8408\n",
            "Epoch 5/5\n",
            "313/313 [==============================] - 35s 113ms/step - loss: 0.0889 - accuracy: 0.9704 - val_loss: 0.4439 - val_accuracy: 0.8674\n",
            "782/782 [==============================] - 17s 22ms/step - loss: 0.5023 - accuracy: 0.8534\n",
            "Test Loss: 0.5023, Test Accuracy: 0.8534\n"
          ]
        }
      ],
      "source": [
        "import numpy as np\n",
        "import pandas as pd\n",
        "from tensorflow.keras.datasets import imdb\n",
        "from tensorflow.keras.models import Sequential\n",
        "from tensorflow.keras.layers import Embedding, LSTM, Dense\n",
        "from tensorflow.keras.preprocessing.sequence import pad_sequences\n",
        "from tensorflow.keras.utils import to_categorical\n",
        "from sklearn.model_selection import train_test_split\n",
        "df=df=pd.read_csv('/content/data.csv')\n",
        "# Load the IMDB dataset\n",
        "max_words = 10000\n",
        "max_len = 200\n",
        "(X_train, y_train), (X_test, y_test) = imdb.load_data(num_words=max_words)\n",
        "# Pad sequences to a fixed length\n",
        "X_train = pad_sequences(X_train, maxlen=max_len)\n",
        "X_test = pad_sequences(X_test, maxlen=max_len)\n",
        "# One-hot encode the labels\n",
        "y_train = to_categorical(y_train, num_classes=2)\n",
        "y_test = to_categorical(y_test, num_classes=2)\n",
        "# Split the training data into training and validation sets\n",
        "X_train, X_val, y_train, y_val = train_test_split(X_train, y_train, test_size=0.2,\n",
        "random_state=42)\n",
        "# Define the LSTM model\n",
        "model = Sequential()\n",
        "model.add(Embedding(max_words, 32, input_length=max_len))\n",
        "model.add(LSTM(32))\n",
        "model.add(Dense(2, activation='softmax'))\n",
        "# Compile the model\n",
        "model.compile(optimizer='adam', loss='categorical_crossentropy', metrics=['accuracy'])\n",
        "# Train the model\n",
        "epochs = 5\n",
        "batch_size = 64\n",
        "model.fit(X_train, y_train, validation_data=(X_val, y_val), epochs=epochs,\n",
        "batch_size=batch_size)\n",
        "# Evaluate the model on the test set\n",
        "loss, accuracy = model.evaluate(X_test, y_test)\n",
        "print(f\"Test Loss: {loss:.4f}, Test Accuracy: {accuracy:.4f}\")"
      ]
    }
  ]
}